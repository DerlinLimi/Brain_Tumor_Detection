{
 "cells": [
  {
   "cell_type": "code",
   "execution_count": 54,
   "id": "f52c8b16",
   "metadata": {},
   "outputs": [],
   "source": [
    "# pip install pillow"
   ]
  },
  {
   "cell_type": "code",
   "execution_count": 55,
   "id": "1811daef",
   "metadata": {},
   "outputs": [],
   "source": [
    "import cv2\n",
    "import os\n",
    "from PIL import Image\n",
    "import numpy as np"
   ]
  },
  {
   "cell_type": "code",
   "execution_count": 56,
   "id": "2ca73081",
   "metadata": {},
   "outputs": [],
   "source": [
    "data=[]\n",
    "paths=[]\n",
    "result=[]"
   ]
  },
  {
   "cell_type": "code",
   "execution_count": 57,
   "id": "4e71b367",
   "metadata": {},
   "outputs": [],
   "source": [
    "for r, d,f in os.walk(r'D:\\DL\\brain tumor detection\\yes'):\n",
    "    for file in f:\n",
    "        if '.jpg' in file:\n",
    "            paths.append(os.path.join(r,file))\n",
    "            \n",
    "            \n",
    "for path in paths:\n",
    "    img=Image.open(path)\n",
    "    img=img.resize((64,64))\n",
    "    img=np.array(img)\n",
    "    if (img.shape==(64,64,3)):\n",
    "        data.append(np.array(img))\n",
    "        result.append(1)\n",
    "    "
   ]
  },
  {
   "cell_type": "code",
   "execution_count": 58,
   "id": "58426fec",
   "metadata": {},
   "outputs": [],
   "source": [
    "paths=[]\n",
    "for r, d,f in os.walk(r'D:\\DL\\brain tumor detection\\no'):\n",
    "    for file in f:\n",
    "        if '.jpg' in file:\n",
    "            paths.append(os.path.join(r,file))\n",
    "            \n",
    "            \n",
    "for path in paths:\n",
    "    img=Image.open(path)\n",
    "    img=img.resize((64,64))\n",
    "    img=np.array(img)\n",
    "    if (img.shape==(64,64,3)):\n",
    "        data.append(np.array(img))\n",
    "        result.append(0)"
   ]
  },
  {
   "cell_type": "code",
   "execution_count": 59,
   "id": "9266fc47",
   "metadata": {},
   "outputs": [
    {
     "data": {
      "text/plain": [
       "(2891, 64, 64, 3)"
      ]
     },
     "execution_count": 59,
     "metadata": {},
     "output_type": "execute_result"
    }
   ],
   "source": [
    "data=np.array(data) #Reshape=(n,image_width,image_height,n_channel)\n",
    "data.shape"
   ]
  },
  {
   "cell_type": "code",
   "execution_count": 60,
   "id": "ce6d4880",
   "metadata": {},
   "outputs": [
    {
     "name": "stdout",
     "output_type": "stream",
     "text": [
      "[1 1 1 ... 0 0 0]\n"
     ]
    }
   ],
   "source": [
    "result=np.array(result)\n",
    "print(result)"
   ]
  },
  {
   "cell_type": "code",
   "execution_count": 61,
   "id": "3057f954",
   "metadata": {},
   "outputs": [],
   "source": [
    "from sklearn.model_selection import train_test_split\n",
    "x_train,x_test,y_train,y_test=train_test_split(data,result,test_size=0.25,random_state=0)"
   ]
  },
  {
   "cell_type": "code",
   "execution_count": 62,
   "id": "b2511d6b",
   "metadata": {},
   "outputs": [
    {
     "name": "stdout",
     "output_type": "stream",
     "text": [
      "(2168, 64, 64, 3)\n",
      "(723, 64, 64, 3)\n",
      "(2168,)\n",
      "(723,)\n"
     ]
    }
   ],
   "source": [
    "print(x_train.shape)\n",
    "print(x_test.shape)\n",
    "print(y_train.shape)\n",
    "print(y_test.shape)"
   ]
  },
  {
   "cell_type": "code",
   "execution_count": 63,
   "id": "88de9d9f",
   "metadata": {},
   "outputs": [],
   "source": [
    "import tensorflow as tf\n",
    "from tensorflow import keras\n",
    "from keras.utils import normalize\n",
    "from keras.utils import to_categorical\n",
    "\n",
    "x_train=normalize(x_train,axis=1)\n",
    "x_test=normalize(x_test,axis=1)\n",
    "\n",
    "y_train=to_categorical(y_train,num_classes=2)\n",
    "y_test=to_categorical(y_test,num_classes=2)"
   ]
  },
  {
   "cell_type": "code",
   "execution_count": 64,
   "id": "b920cbe9",
   "metadata": {},
   "outputs": [],
   "source": [
    "from keras.models import Sequential\n",
    "from keras.layers import Conv2D,MaxPooling2D,Activation,Dropout,Flatten,Dense"
   ]
  },
  {
   "cell_type": "code",
   "execution_count": 65,
   "id": "80f0ae24",
   "metadata": {},
   "outputs": [],
   "source": [
    "model=Sequential()\n",
    "model.add(Conv2D(32,(3,3),input_shape=(64,64,3)))\n",
    "model.add(Activation('relu'))\n",
    "model.add(MaxPooling2D(pool_size=(2,2)))\n",
    "\n",
    "model.add(Conv2D(32,(3,3),kernel_initializer='he_uniform'))\n",
    "model.add(Activation('relu'))\n",
    "model.add(MaxPooling2D(pool_size=(2,2)))\n",
    "\n",
    "model.add(Conv2D(64,(3,3),kernel_initializer='he_uniform'))\n",
    "model.add(Activation('relu'))\n",
    "model.add(MaxPooling2D(pool_size=(2,2)))\n",
    "\n",
    "model.add(Flatten())\n",
    "model.add(Dense(64))\n",
    "model.add(Activation('relu'))\n",
    "model.add(Dropout(0.5))\n",
    "model.add(Dense(2))\n",
    "model.add(Activation('softmax'))\n"
   ]
  },
  {
   "cell_type": "code",
   "execution_count": 66,
   "id": "047e75f2",
   "metadata": {},
   "outputs": [],
   "source": [
    "model.compile(loss='categorical_crossentropy',optimizer='adam',metrics=['accuracy'])"
   ]
  },
  {
   "cell_type": "code",
   "execution_count": 67,
   "id": "184d0608",
   "metadata": {},
   "outputs": [
    {
     "name": "stdout",
     "output_type": "stream",
     "text": [
      "Epoch 1/15\n",
      "87/87 [==============================] - 4s 39ms/step - loss: 0.5461 - accuracy: 0.7279 - val_loss: 0.4604 - val_accuracy: 0.7939\n",
      "Epoch 2/15\n",
      "87/87 [==============================] - 3s 37ms/step - loss: 0.4340 - accuracy: 0.8086 - val_loss: 0.3756 - val_accuracy: 0.8299\n",
      "Epoch 3/15\n",
      "87/87 [==============================] - 3s 37ms/step - loss: 0.3356 - accuracy: 0.8570 - val_loss: 0.3084 - val_accuracy: 0.8672\n",
      "Epoch 4/15\n",
      "87/87 [==============================] - 3s 31ms/step - loss: 0.2751 - accuracy: 0.8888 - val_loss: 0.2424 - val_accuracy: 0.9073\n",
      "Epoch 5/15\n",
      "87/87 [==============================] - 3s 40ms/step - loss: 0.1950 - accuracy: 0.9253 - val_loss: 0.1885 - val_accuracy: 0.9267\n",
      "Epoch 6/15\n",
      "87/87 [==============================] - 3s 39ms/step - loss: 0.1326 - accuracy: 0.9571 - val_loss: 0.1410 - val_accuracy: 0.9544\n",
      "Epoch 7/15\n",
      "87/87 [==============================] - 3s 37ms/step - loss: 0.0941 - accuracy: 0.9691 - val_loss: 0.1140 - val_accuracy: 0.9571\n",
      "Epoch 8/15\n",
      "87/87 [==============================] - 3s 37ms/step - loss: 0.0570 - accuracy: 0.9820 - val_loss: 0.0963 - val_accuracy: 0.9668\n",
      "Epoch 9/15\n",
      "87/87 [==============================] - 3s 31ms/step - loss: 0.0382 - accuracy: 0.9885 - val_loss: 0.0818 - val_accuracy: 0.9751\n",
      "Epoch 10/15\n",
      "87/87 [==============================] - 3s 38ms/step - loss: 0.0299 - accuracy: 0.9935 - val_loss: 0.1076 - val_accuracy: 0.9737\n",
      "Epoch 11/15\n",
      "87/87 [==============================] - 3s 38ms/step - loss: 0.0226 - accuracy: 0.9935 - val_loss: 0.0783 - val_accuracy: 0.9765\n",
      "Epoch 12/15\n",
      "87/87 [==============================] - 3s 38ms/step - loss: 0.0193 - accuracy: 0.9940 - val_loss: 0.0970 - val_accuracy: 0.9696\n",
      "Epoch 13/15\n",
      "87/87 [==============================] - 3s 36ms/step - loss: 0.0136 - accuracy: 0.9968 - val_loss: 0.1135 - val_accuracy: 0.9765\n",
      "Epoch 14/15\n",
      "87/87 [==============================] - 3s 32ms/step - loss: 0.0077 - accuracy: 0.9986 - val_loss: 0.1028 - val_accuracy: 0.9779\n",
      "Epoch 15/15\n",
      "87/87 [==============================] - 3s 40ms/step - loss: 0.0187 - accuracy: 0.9940 - val_loss: 0.0941 - val_accuracy: 0.9751\n"
     ]
    },
    {
     "data": {
      "text/plain": [
       "<keras.callbacks.History at 0x19b87722fd0>"
      ]
     },
     "execution_count": 67,
     "metadata": {},
     "output_type": "execute_result"
    }
   ],
   "source": [
    "model.fit(x_train,y_train,batch_size=25,verbose=1,epochs=15,\n",
    "         validation_data=(x_test,y_test),shuffle=False)"
   ]
  },
  {
   "cell_type": "code",
   "execution_count": 68,
   "id": "4fd67044",
   "metadata": {},
   "outputs": [],
   "source": [
    "from PIL import Image\n",
    "image1=cv2.imread('D:\\\\DL\\\\brain tumor detection\\\\no\\\\no8.jpg')"
   ]
  },
  {
   "cell_type": "code",
   "execution_count": 69,
   "id": "2fe912f4",
   "metadata": {},
   "outputs": [],
   "source": [
    "img=Image.fromarray(image1)\n",
    "img=img.resize((64,64))\n",
    "img=np.array(img)\n",
    "input_img=np.expand_dims(img,axis=0)"
   ]
  },
  {
   "cell_type": "code",
   "execution_count": 70,
   "id": "10d3c93d",
   "metadata": {},
   "outputs": [
    {
     "name": "stdout",
     "output_type": "stream",
     "text": [
      "1/1 [==============================] - 0s 43ms/step\n",
      "0\n",
      "The MRI scan is healthy\n"
     ]
    }
   ],
   "source": [
    "output=model.predict(input_img)\n",
    "output=np.argmax(output)\n",
    "print(output)\n",
    "if output==0:\n",
    "    print(\"The MRI scan is healthy\")        \n",
    "else:\n",
    "     print(\"The MRI scan has a brain tumor\")"
   ]
  },
  {
   "cell_type": "code",
   "execution_count": 71,
   "id": "2428ac91",
   "metadata": {},
   "outputs": [],
   "source": [
    "model.save('BrainTumorcategorical.h5')"
   ]
  },
  {
   "cell_type": "code",
   "execution_count": 72,
   "id": "966cdbc6",
   "metadata": {},
   "outputs": [],
   "source": [
    "from keras.models import load_model\n",
    "model=load_model('BrainTumorcategorical.h5')"
   ]
  },
  {
   "cell_type": "code",
   "execution_count": 73,
   "id": "5e5e5c6e",
   "metadata": {},
   "outputs": [
    {
     "name": "stdout",
     "output_type": "stream",
     "text": [
      "1/1 [==============================] - 0s 41ms/step\n",
      "1\n",
      "The MRI scan has a brain tumor\n"
     ]
    }
   ],
   "source": [
    "image1=cv2.imread('D:\\\\DL\\\\brain tumor detection\\\\yes\\\\y10.jpg')\n",
    "img=Image.fromarray(image1)\n",
    "img=img.resize((64,64))\n",
    "img=np.array(img)\n",
    "input_img=np.expand_dims(img,axis=0)\n",
    "output=model.predict(input_img)\n",
    "output=np.argmax(output)\n",
    "print(output)\n",
    "if output==0:\n",
    "    print(\"The MRI scan is healthy\")        \n",
    "else:\n",
    "     print(\"The MRI scan has a brain tumor\")"
   ]
  },
  {
   "cell_type": "code",
   "execution_count": null,
   "id": "ced05d75",
   "metadata": {},
   "outputs": [],
   "source": []
  }
 ],
 "metadata": {
  "kernelspec": {
   "display_name": "Python 3 (ipykernel)",
   "language": "python",
   "name": "python3"
  },
  "language_info": {
   "codemirror_mode": {
    "name": "ipython",
    "version": 3
   },
   "file_extension": ".py",
   "mimetype": "text/x-python",
   "name": "python",
   "nbconvert_exporter": "python",
   "pygments_lexer": "ipython3",
   "version": "3.9.12"
  }
 },
 "nbformat": 4,
 "nbformat_minor": 5
}
